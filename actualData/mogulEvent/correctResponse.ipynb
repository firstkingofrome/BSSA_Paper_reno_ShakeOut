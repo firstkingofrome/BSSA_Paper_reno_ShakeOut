{
 "cells": [
  {
   "cell_type": "code",
   "execution_count": null,
   "metadata": {},
   "outputs": [],
   "source": [
    "from obspy import read_inventory, UTCDateTime\n",
    "from obspy.core.event import read_events\n",
    "from obspy import read\n",
    "import os\n",
    "import subprocess\n",
    "%matplotlib inline\n",
    "\n",
    "\"\"\"\n",
    "Double check that obspy is actually using an butterworth filter\n",
    "Plot out some of the spectra for this data\n",
    "\"\"\""
   ]
  },
  {
   "cell_type": "code",
   "execution_count": null,
   "metadata": {},
   "outputs": [],
   "source": [
    "path=os.getcwd()\n",
    "EVID=385392\n",
    "comparisionFrequency = 3.3\n",
    "\n",
    "def write_st_as_sac(st,instrument=\"acc\",eventID=0):\n",
    "    directory = './'+str(eventID)+\"/response\"\n",
    "    if not os.path.exists(directory):\n",
    "        os.makedirs(directory)\n",
    "    directory = directory + \"/\" + instrument + \"/\"\n",
    "    if not os.path.exists(directory):\n",
    "        os.makedirs(directory)\n",
    "    fname = directory+\"/%s.sac\" % trace.id\n",
    "    trace.write(fname, format=\"SAC\")"
   ]
  },
  {
   "cell_type": "code",
   "execution_count": null,
   "metadata": {},
   "outputs": [],
   "source": [
    "### Clean up the input data\n",
    "command,newFile = '',''\n",
    "\n",
    "try:\n",
    "    os.mkdir(path+\"/\"+str(EVID)+\"/\"+\"cleaned\")\n",
    "    inputFiles = os.listdir(path+\"/\"+str(EVID))\n",
    "    for file in inputFiles:\n",
    "        net = \"NN\"\n",
    "        sta,cha = file.split(\".\")[0],file.split(\".\")[1]\n",
    "        newFile= net+'.'+sta+\"..\"+cha\n",
    "        command = \"cp \" + path+'/'+str(EVID)+'/'+file + ' ' + path+'/'+str(EVID)+'/'+\"cleaned\"+\"/\"+newFile + \".sac\"\n",
    "        process = subprocess.Popen(command, shell=True, stdout=subprocess.PIPE)\n",
    "        \n",
    "except Exception as e:\n",
    "    print(repr(e))\n",
    "    print(\"you have most likely already cleaned up the input files\")"
   ]
  },
  {
   "cell_type": "code",
   "execution_count": null,
   "metadata": {},
   "outputs": [],
   "source": [
    "#begin by loading the station xml\n",
    "inventory = read_inventory(path+\"/reno.xml\")"
   ]
  },
  {
   "cell_type": "code",
   "execution_count": null,
   "metadata": {},
   "outputs": [],
   "source": [
    "#get all of the availible stations\n",
    "st = read(path+\"/385392/cleaned/*.sac\")\n",
    "#fix them so that they have the correct network metadata \n",
    "#(so that they can be found in the instrument response)\n",
    "for i in st:\n",
    "    i.meta[\"network\"] = \"NN\""
   ]
  },
  {
   "cell_type": "code",
   "execution_count": null,
   "metadata": {},
   "outputs": [],
   "source": [
    "#Play with some filters and look at how well it works\n",
    "\"\"\"\n",
    "r1 = st[190].copy()\n",
    "r2 = st[191].copy()\n",
    "#filter down to target frequencty\n",
    "r1Copy = r1.copy()\n",
    "r1.filter('lowpass',freq=comparisionFrequency,corners=5,zerophase=True)\n",
    "r1.plot()\n",
    "r1Copy.plot()\n",
    "r1.remove_response(inventory=inventory,output=\"acc\",plot=True)\n",
    "\"\"\"\n",
    "def filterACC(trace,corners=True,zerophase=True,comparisionFrequency=comparisionFrequency):\n",
    "    trace.filter('lowpass',freq=comparisionFrequency,corners=5,zerophase=True)\n",
    "    pass"
   ]
  },
  {
   "cell_type": "code",
   "execution_count": null,
   "metadata": {},
   "outputs": [],
   "source": [
    "#remove the response for all of the stations\n",
    "#pre_filt = (0.05, 0.1, 50.0, 60.0)\n",
    "plot = False\n",
    "for trace in st:\n",
    "    #attempt to remove the response for each\n",
    "    try:\n",
    "        #determine if accelerogram\n",
    "        if(\"N\" in trace.id.split(\"..\")[1]):\n",
    "            filterACC(trace)\n",
    "            trace.remove_response(inventory=inventory,output=\"acc\",plot=plot)\n",
    "            #save to accelerogram dir\n",
    "            write_st_as_sac(trace,instrument=\"acc\",eventID=EVID)\n",
    "\n",
    "        #velocity\n",
    "        elif((\"H\" or \"L\") in trace.id.split(\"..\")[1]):\n",
    "            filterACC(trace)\n",
    "            trace.remove_response(inventory=inventory,output=\"vel\", pre_filt=pre_filt,plot=plot)            write_st_as_sac(trace,instrument=\"vel\",eventID=EVID)\n",
    "        #displacement\n",
    "        elif(\"M\" in trace.id.split(\"..\")[1]):\n",
    "            filterACC(trace)\n",
    "            trace.remove_response(inventory=inventory,output=\"disp\",plot=plot)\n",
    "            write_st_as_sac(trace,instrument=\"disp\",eventID=EVID)\n",
    "        else:\n",
    "            print(\"unkown seed code for \" + str(trace))\n",
    "        print(\"corrected response for \" + str(trace))\n",
    "    except Exception as e:\n",
    "        #print(repr(e))\n",
    "        pass"
   ]
  },
  {
   "cell_type": "code",
   "execution_count": null,
   "metadata": {},
   "outputs": [],
   "source": []
  },
  {
   "cell_type": "code",
   "execution_count": null,
   "metadata": {},
   "outputs": [],
   "source": []
  }
 ],
 "metadata": {
  "kernelspec": {
   "display_name": "Python 3",
   "language": "python",
   "name": "python3"
  },
  "language_info": {
   "codemirror_mode": {
    "name": "ipython",
    "version": 3
   },
   "file_extension": ".py",
   "mimetype": "text/x-python",
   "name": "python",
   "nbconvert_exporter": "python",
   "pygments_lexer": "ipython3",
   "version": "3.7.2"
  }
 },
 "nbformat": 4,
 "nbformat_minor": 2
}
